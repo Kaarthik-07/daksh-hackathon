{
 "cells": [
  {
   "cell_type": "code",
   "execution_count": null,
   "metadata": {},
   "outputs": [],
   "source": [
    "import transformers\n",
    "\n",
    "model_name = 'Intel/neural-chat-7b-v3-3'\n",
    "model = transformers.AutoModelForCausalLM.from_pretrained(model_name)\n",
    "tokenizer = transformers.AutoTokenizer.from_pretrained(model_name)\n",
    "\n",
    "def generate_response(system_input, user_input):\n",
    "    # Format the input using the provided template\n",
    "    prompt = f\"### System:\\n{system_input}\\n### User:\\n{user_input}\\n### Assistant:\\n\"\n",
    "\n",
    "    # Tokenize and encode the prompt\n",
    "    inputs = tokenizer.encode(prompt, return_tensors=\"pt\", add_special_tokens=False)\n",
    "\n",
    "    # Generate a response\n",
    "    outputs = model.generate(inputs, max_length=1000, num_return_sequences=1)\n",
    "    response = tokenizer.decode(outputs[0], skip_special_tokens=True)\n",
    "\n",
    "    # Extract only the assistant's response\n",
    "    return response.split(\"### Assistant:\\n\")[-1]\n",
    "\n",
    "def extract_answer(response):\n",
    "    # Split the response into lines and extract the last line as the answer\n",
    "    lines = response.split('\\n')\n",
    "    answer = lines[-1].strip() if lines else \"\"\n",
    "    return answer\n",
    "\n",
    "# Example usage\n",
    "system_input = system_input\n",
    "user_input = user_input\n",
    "response = generate_response(system_input, user_input)\n",
    "\n",
    "# Extract the answer from the response\n",
    "answer = extract_answer(response)\n",
    "print(\"Assistant's Response:\", response)\n",
    "print(\"Extracted Answer:\", answer)\n"
   ]
  },
  {
   "attachments": {},
   "cell_type": "markdown",
   "metadata": {},
   "source": [
    "datasets examples"
   ]
  },
  {
   "cell_type": "code",
   "execution_count": null,
   "metadata": {},
   "outputs": [],
   "source": [
    "from datasets import load_dataset\n",
    "data = load_dataset(\"open-llm-leaderboard/details_Intel__neural-chat-7b-v3-3\",\n",
    "    \"harness_winogrande_5\",\n",
    "    split=\"train\")"
   ]
  },
  {
   "cell_type": "code",
   "execution_count": null,
   "metadata": {},
   "outputs": [],
   "source": []
  },
  {
   "cell_type": "code",
   "execution_count": null,
   "metadata": {},
   "outputs": [],
   "source": [
    "from intel_extension_for_transformers.transformers import AutoModelForCausalLM, WeightOnlyQuantConfig\n",
    "model_name = \"Intel/neural-chat-7b-v3-3\"\n",
    "\n",
    "# for int8, should set weight_dtype=\"int8\"       \n",
    "config = WeightOnlyQuantConfig(compute_dtype=\"bf16\", weight_dtype=\"int4\")\n",
    "prompt = \"tell me about child rights\"\n",
    "\n",
    "tokenizer = AutoTokenizer.from_pretrained(model_name, trust_remote_code=True)\n",
    "inputs = tokenizer(prompt, return_tensors=\"pt\").input_ids\n",
    "streamer = TextStreamer(tokenizer)\n",
    "\n",
    "model = AutoModelForCausalLM.from_pretrained(model_name, quantization_config=config)\n",
    "outputs = model.generate(inputs, streamer=streamer, max_new_tokens=3000)"
   ]
  }
 ],
 "metadata": {
  "language_info": {
   "name": "python"
  },
  "orig_nbformat": 4
 },
 "nbformat": 4,
 "nbformat_minor": 2
}
