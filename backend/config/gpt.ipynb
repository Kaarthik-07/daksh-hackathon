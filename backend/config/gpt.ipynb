{
 "cells": [
  {
   "cell_type": "code",
   "execution_count": null,
   "metadata": {},
   "outputs": [],
   "source": [
    "from intel_extension_for_transformers.llm.evaluation.models import TSModelCausalLMForITREX\n",
    "\n",
    "user_model = TSModelCausalLMForITREX.from_pretrained(\n",
    "    args.output_dir, # Your saved path\n",
    "    file_name=\"best_model.pt\",\n",
    "    trust_remote_code=args.trust_remote_code, # Default is False\n",
    ")\n"
   ]
  }
 ],
 "metadata": {
  "kernelspec": {
   "display_name": "Python 3",
   "language": "python",
   "name": "python3"
  },
  "language_info": {
   "codemirror_mode": {
    "name": "ipython",
    "version": 3
   },
   "file_extension": ".py",
   "mimetype": "text/x-python",
   "name": "python",
   "nbconvert_exporter": "python",
   "pygments_lexer": "ipython3",
   "version": "3.11.8"
  },
  "orig_nbformat": 4
 },
 "nbformat": 4,
 "nbformat_minor": 2
}
